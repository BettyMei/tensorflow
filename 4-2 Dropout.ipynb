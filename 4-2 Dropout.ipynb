{
 "cells": [
  {
   "cell_type": "code",
   "execution_count": 1,
   "metadata": {
    "collapsed": true
   },
   "outputs": [],
   "source": [
    "import tensorflow as tf\n",
    "import tensorflow.examples.tutorials.mnist.input_data as input_data"
   ]
  },
  {
   "cell_type": "code",
   "execution_count": 14,
   "metadata": {
    "collapsed": false
   },
   "outputs": [
    {
     "name": "stdout",
     "output_type": "stream",
     "text": [
      "Extracting MNIST_data\\train-images-idx3-ubyte.gz\n",
      "Extracting MNIST_data\\train-labels-idx1-ubyte.gz\n",
      "Extracting MNIST_data\\t10k-images-idx3-ubyte.gz\n",
      "Extracting MNIST_data\\t10k-labels-idx1-ubyte.gz\n",
      "Iter 0, Testing Accuracy 0.9071, Training Accurucy 0.8988182\n",
      "Iter 1, Testing Accuracy 0.9188, Training Accurucy 0.91392726\n",
      "Iter 2, Testing Accuracy 0.9276, Training Accurucy 0.9234727\n",
      "Iter 3, Testing Accuracy 0.9307, Training Accurucy 0.9273818\n",
      "Iter 4, Testing Accuracy 0.9369, Training Accurucy 0.9340182\n",
      "Iter 5, Testing Accuracy 0.9378, Training Accurucy 0.93734545\n",
      "Iter 6, Testing Accuracy 0.9408, Training Accurucy 0.9384182\n",
      "Iter 7, Testing Accuracy 0.9433, Training Accurucy 0.94205457\n",
      "Iter 8, Testing Accuracy 0.9449, Training Accurucy 0.94387275\n",
      "Iter 9, Testing Accuracy 0.9463, Training Accurucy 0.94650906\n",
      "Iter 10, Testing Accuracy 0.9483, Training Accurucy 0.94830906\n",
      "Iter 11, Testing Accuracy 0.9493, Training Accurucy 0.9514\n",
      "Iter 12, Testing Accuracy 0.9501, Training Accurucy 0.95296365\n",
      "Iter 13, Testing Accuracy 0.9515, Training Accurucy 0.95427275\n",
      "Iter 14, Testing Accuracy 0.9515, Training Accurucy 0.9552\n",
      "Iter 15, Testing Accuracy 0.9534, Training Accurucy 0.9558182\n",
      "Iter 16, Testing Accuracy 0.9544, Training Accurucy 0.95747274\n",
      "Iter 17, Testing Accuracy 0.9542, Training Accurucy 0.9593818\n",
      "Iter 18, Testing Accuracy 0.9548, Training Accurucy 0.95878184\n",
      "Iter 19, Testing Accuracy 0.9563, Training Accurucy 0.96003634\n",
      "Iter 20, Testing Accuracy 0.9537, Training Accurucy 0.96007276\n"
     ]
    }
   ],
   "source": [
    "#载入数据集\n",
    "mnist = input_data.read_data_sets(\"MNIST_data\",one_hot=True)\n",
    "\n",
    "#每个批次的大小(输入)\n",
    "batch_size = 100\n",
    "#计算共多少批次\n",
    "n_batch = mnist.train.num_examples // batch_size\n",
    "\n",
    "#定义三个占位符\n",
    "x = tf.placeholder(tf.float32,[None,784])\n",
    "y = tf.placeholder(tf.float32,[None,10])\n",
    "keep_prob = tf.placeholder(tf.float32)\n",
    "\n",
    "#创建一个四层的神经网络（输入层+三个隐藏层+输出层）\n",
    "W1 = tf.Variable(tf.truncated_normal([784,1000],stddev=0.1))\n",
    "b1 = tf.Variable(tf.zeros([1000])+0.1)\n",
    "L1 = tf.nn.tanh(tf.matmul(x,W1)+b1)\n",
    "L1_drop = tf.nn.dropout(L1,keep_prob)\n",
    "\n",
    "W2 = tf.Variable(tf.truncated_normal([1000,1000],stddev=0.1))\n",
    "b2 = tf.Variable(tf.zeros([1000])+0.1)\n",
    "L2 = tf.nn.tanh(tf.matmul(L1_drop,W2)+b2)\n",
    "L2_drop = tf.nn.dropout(L2,keep_prob)\n",
    "\n",
    "W3 = tf.Variable(tf.truncated_normal([1000,500],stddev=0.1))\n",
    "b3 = tf.Variable(tf.zeros([500])+0.1)\n",
    "L3 = tf.nn.tanh(tf.matmul(L2_drop,W3)+b3)\n",
    "L3_drop = tf.nn.dropout(L3,keep_prob)\n",
    "\n",
    "W4 = tf.Variable(tf.truncated_normal([500,10],stddev=0.1))\n",
    "b4 = tf.Variable(tf.zeros([10])+0.1)\n",
    "prediction = tf.nn.softmax(tf.matmul(L3_drop,W4)+b4)\n",
    "\n",
    "#交叉熵代价函数\n",
    "loss = tf.reduce_mean(tf.nn.softmax_cross_entropy_with_logits(labels=y,logits=prediction))\n",
    "\n",
    "#使用梯度下降法进行训练\n",
    "train_step = tf.train.GradientDescentOptimizer(0.2).minimize(loss)\n",
    "\n",
    "#初始化变量\n",
    "init = tf.global_variables_initializer()\n",
    "\n",
    "#结果存放在一个布尔型列表中\n",
    "correct_prediction = tf.equal(tf.argmax(y,1),tf.argmax(prediction,1)) #argmax返回一维张量中最大值所在的位置\n",
    "#求准确率\n",
    "accuracy = tf.reduce_mean(tf.cast(correct_prediction,tf.float32)) #cast表示类型转换\n",
    "\n",
    "with tf.Session() as sess:\n",
    "    sess.run(init)\n",
    "    for epoch in range(21):\n",
    "        for batch in range(n_batch):\n",
    "            batch_xs,batch_ys = mnist.train.next_batch(batch_size)\n",
    "            sess.run(train_step,feed_dict={x:batch_xs,y:batch_ys,keep_prob:0.6})\n",
    "\n",
    "        test_acc = sess.run(accuracy,feed_dict={x:mnist.test.images,y:mnist.test.labels,keep_prob:1.0})\n",
    "        train_acc = sess.run(accuracy,feed_dict={x:mnist.train.images,y:mnist.train.labels,keep_prob:1.0})\n",
    "        print(\"Iter \" + str(epoch) + \", Testing Accuracy \" + str(test_acc) + \", Training Accurucy \" + str(train_acc))\n"
   ]
  },
  {
   "cell_type": "code",
   "execution_count": null,
   "metadata": {
    "collapsed": true
   },
   "outputs": [],
   "source": [
    "Iter 0, Testing Accuracy 0.9454, Training Accurucy 0.9513818\n",
    "Iter 1, Testing Accuracy 0.9585, Training Accurucy 0.9692364\n",
    "Iter 2, Testing Accuracy 0.9625, Training Accurucy 0.97656363\n",
    "Iter 3, Testing Accuracy 0.9657, Training Accurucy 0.982\n",
    "Iter 4, Testing Accuracy 0.9687, Training Accurucy 0.9848\n",
    "Iter 5, Testing Accuracy 0.9699, Training Accurucy 0.9870727\n",
    "Iter 6, Testing Accuracy 0.9709, Training Accurucy 0.98858184\n",
    "Iter 7, Testing Accuracy 0.9714, Training Accurucy 0.9895091\n",
    "Iter 8, Testing Accuracy 0.9739, Training Accurucy 0.9904909\n",
    "Iter 9, Testing Accuracy 0.9736, Training Accurucy 0.9912182\n",
    "Iter 10, Testing Accuracy 0.9737, Training Accurucy 0.9918909\n",
    "Iter 11, Testing Accuracy 0.9733, Training Accurucy 0.99227273\n",
    "Iter 12, Testing Accuracy 0.9748, Training Accurucy 0.9927091\n",
    "Iter 13, Testing Accuracy 0.9757, Training Accurucy 0.9929818\n",
    "Iter 14, Testing Accuracy 0.9759, Training Accurucy 0.99325454\n",
    "Iter 15, Testing Accuracy 0.9756, Training Accurucy 0.9935091\n",
    "Iter 16, Testing Accuracy 0.9766, Training Accurucy 0.9936182\n",
    "Iter 17, Testing Accuracy 0.9769, Training Accurucy 0.9938909\n",
    "Iter 18, Testing Accuracy 0.9763, Training Accurucy 0.9941273\n",
    "Iter 19, Testing Accuracy 0.976, Training Accurucy 0.99423635\n",
    "Iter 20, Testing Accuracy 0.9775, Training Accurucy 0.9943454"
   ]
  }
 ],
 "metadata": {
  "anaconda-cloud": {},
  "kernelspec": {
   "display_name": "Python [default]",
   "language": "python",
   "name": "python3"
  },
  "language_info": {
   "codemirror_mode": {
    "name": "ipython",
    "version": 3
   },
   "file_extension": ".py",
   "mimetype": "text/x-python",
   "name": "python",
   "nbconvert_exporter": "python",
   "pygments_lexer": "ipython3",
   "version": "3.5.2"
  }
 },
 "nbformat": 4,
 "nbformat_minor": 1
}
